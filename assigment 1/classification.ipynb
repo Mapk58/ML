{
 "cells": [
  {
   "cell_type": "markdown",
   "metadata": {},
   "source": [
    "## MACHINE LEARNING ASSIGNMENT 1\n",
    "#### Classification task\n",
    "#### Student: Vishnevskiy Mark"
   ]
  },
  {
   "cell_type": "markdown",
   "metadata": {},
   "source": [
    "#### 1. Import libraries"
   ]
  },
  {
   "cell_type": "code",
   "execution_count": 367,
   "metadata": {},
   "outputs": [],
   "source": [
    "import numpy as np\n",
    "import pandas as pd \n",
    "import matplotlib.pyplot as plt\n",
    "%matplotlib inline"
   ]
  },
  {
   "cell_type": "markdown",
   "metadata": {},
   "source": [
    "#### 2. Load data"
   ]
  },
  {
   "cell_type": "code",
   "execution_count": 368,
   "metadata": {},
   "outputs": [
    {
     "data": {
      "text/html": [
       "<div>\n",
       "<style scoped>\n",
       "    .dataframe tbody tr th:only-of-type {\n",
       "        vertical-align: middle;\n",
       "    }\n",
       "\n",
       "    .dataframe tbody tr th {\n",
       "        vertical-align: top;\n",
       "    }\n",
       "\n",
       "    .dataframe thead th {\n",
       "        text-align: right;\n",
       "    }\n",
       "</style>\n",
       "<table border=\"1\" class=\"dataframe\">\n",
       "  <thead>\n",
       "    <tr style=\"text-align: right;\">\n",
       "      <th></th>\n",
       "      <th>fps_mean</th>\n",
       "      <th>fps_std</th>\n",
       "      <th>fps_lags</th>\n",
       "      <th>rtt_mean</th>\n",
       "      <th>rtt_std</th>\n",
       "      <th>dropped_frames_mean</th>\n",
       "      <th>dropped_frames_std</th>\n",
       "      <th>dropped_frames_max</th>\n",
       "      <th>auto_bitrate_state</th>\n",
       "      <th>auto_fec_state</th>\n",
       "      <th>auto_fec_mean</th>\n",
       "      <th>stream_quality</th>\n",
       "    </tr>\n",
       "  </thead>\n",
       "  <tbody>\n",
       "    <tr>\n",
       "      <th>0</th>\n",
       "      <td>24.4</td>\n",
       "      <td>0.516398</td>\n",
       "      <td>0</td>\n",
       "      <td>91.1</td>\n",
       "      <td>6.723921</td>\n",
       "      <td>0.0</td>\n",
       "      <td>0.0</td>\n",
       "      <td>0.0</td>\n",
       "      <td>off</td>\n",
       "      <td>partial</td>\n",
       "      <td>50.0</td>\n",
       "      <td>0</td>\n",
       "    </tr>\n",
       "    <tr>\n",
       "      <th>1</th>\n",
       "      <td>28.6</td>\n",
       "      <td>2.065591</td>\n",
       "      <td>0</td>\n",
       "      <td>99.7</td>\n",
       "      <td>15.923777</td>\n",
       "      <td>0.0</td>\n",
       "      <td>0.0</td>\n",
       "      <td>0.0</td>\n",
       "      <td>off</td>\n",
       "      <td>partial</td>\n",
       "      <td>50.0</td>\n",
       "      <td>0</td>\n",
       "    </tr>\n",
       "    <tr>\n",
       "      <th>2</th>\n",
       "      <td>30.0</td>\n",
       "      <td>0.000000</td>\n",
       "      <td>0</td>\n",
       "      <td>98.1</td>\n",
       "      <td>11.798776</td>\n",
       "      <td>0.0</td>\n",
       "      <td>0.0</td>\n",
       "      <td>0.0</td>\n",
       "      <td>off</td>\n",
       "      <td>partial</td>\n",
       "      <td>50.0</td>\n",
       "      <td>0</td>\n",
       "    </tr>\n",
       "    <tr>\n",
       "      <th>3</th>\n",
       "      <td>30.3</td>\n",
       "      <td>0.948683</td>\n",
       "      <td>0</td>\n",
       "      <td>99.4</td>\n",
       "      <td>13.014522</td>\n",
       "      <td>0.0</td>\n",
       "      <td>0.0</td>\n",
       "      <td>0.0</td>\n",
       "      <td>off</td>\n",
       "      <td>partial</td>\n",
       "      <td>50.0</td>\n",
       "      <td>0</td>\n",
       "    </tr>\n",
       "    <tr>\n",
       "      <th>4</th>\n",
       "      <td>29.9</td>\n",
       "      <td>0.316228</td>\n",
       "      <td>0</td>\n",
       "      <td>123.2</td>\n",
       "      <td>62.476307</td>\n",
       "      <td>0.0</td>\n",
       "      <td>0.0</td>\n",
       "      <td>0.0</td>\n",
       "      <td>off</td>\n",
       "      <td>partial</td>\n",
       "      <td>50.0</td>\n",
       "      <td>0</td>\n",
       "    </tr>\n",
       "  </tbody>\n",
       "</table>\n",
       "</div>"
      ],
      "text/plain": [
       "   fps_mean   fps_std  fps_lags  rtt_mean    rtt_std  dropped_frames_mean  \\\n",
       "0      24.4  0.516398         0      91.1   6.723921                  0.0   \n",
       "1      28.6  2.065591         0      99.7  15.923777                  0.0   \n",
       "2      30.0  0.000000         0      98.1  11.798776                  0.0   \n",
       "3      30.3  0.948683         0      99.4  13.014522                  0.0   \n",
       "4      29.9  0.316228         0     123.2  62.476307                  0.0   \n",
       "\n",
       "   dropped_frames_std  dropped_frames_max auto_bitrate_state auto_fec_state  \\\n",
       "0                 0.0                 0.0                off        partial   \n",
       "1                 0.0                 0.0                off        partial   \n",
       "2                 0.0                 0.0                off        partial   \n",
       "3                 0.0                 0.0                off        partial   \n",
       "4                 0.0                 0.0                off        partial   \n",
       "\n",
       "   auto_fec_mean  stream_quality  \n",
       "0           50.0               0  \n",
       "1           50.0               0  \n",
       "2           50.0               0  \n",
       "3           50.0               0  \n",
       "4           50.0               0  "
      ]
     },
     "execution_count": 368,
     "metadata": {},
     "output_type": "execute_result"
    }
   ],
   "source": [
    "stream_df = pd.read_csv('./stream/train_data.csv')\n",
    "stream_dft = pd.read_csv('./stream/test_data.csv')\n",
    "stream_df.head()"
   ]
  },
  {
   "cell_type": "markdown",
   "metadata": {},
   "source": [
    "#### 3. Explore data"
   ]
  },
  {
   "cell_type": "code",
   "execution_count": 369,
   "metadata": {},
   "outputs": [],
   "source": [
    "# import pandas_profiling\n",
    "\n",
    "# profileReport = pandas_profiling.profile_report.ProfileReport(stream_df)\n",
    "# profileReport.to_file('stream_report.html')"
   ]
  },
  {
   "cell_type": "markdown",
   "metadata": {},
   "source": [
    "#### 4. Preprocessing"
   ]
  },
  {
   "cell_type": "code",
   "execution_count": 370,
   "metadata": {},
   "outputs": [],
   "source": [
    "from category_encoders import OneHotEncoder\n",
    "from sklearn.preprocessing import MinMaxScaler\n",
    "from scipy import stats\n",
    "from sklearn.utils import resample\n",
    "\n",
    "def preprocess_data(stream_df, stream_df_test = None):\n",
    "\n",
    "    # encoding categorical values\n",
    "    target_encoding = {'partial':1, 'off':0}\n",
    "    stream_df['auto_fec_state'] = stream_df['auto_fec_state'].apply(lambda x : target_encoding.get(x))\n",
    "\n",
    "    # ordinal encoding\n",
    "    target_encoding = {'off':0., 'partial':0.5, 'full':1.}\n",
    "    stream_df['auto_bitrate_state_lable'] = stream_df['auto_bitrate_state'].apply(lambda x : target_encoding.get(x))\n",
    "    \n",
    "    # one-hot encoding\n",
    "    encoder = OneHotEncoder(cols=['auto_bitrate_state'], handle_unknown='error')\n",
    "    encoder.fit(stream_df)\n",
    "    stream_df = encoder.transform(stream_df)\n",
    "    \n",
    "    # removing outliers\n",
    "    buf = stream_df['stream_quality']\n",
    "    stream_df = stream_df.drop('stream_quality', axis=1)\n",
    "    stream_df = stream_df[(np.abs(stats.zscore(stream_df)) < 3).all(axis=1)]\n",
    "    stream_df['stream_quality'] = buf[stream_df.index]\n",
    "\n",
    "    # data augmentation (data imbalance problem)\n",
    "    df_major = stream_df[stream_df.stream_quality == 0]\n",
    "    df_minor = stream_df[stream_df.stream_quality == 1]\n",
    "    df_minor_sample = resample(df_minor, replace=True, n_samples=len(df_minor)*4)\n",
    "    stream_df = pd.concat([df_major, df_minor_sample])\n",
    "\n",
    "    # splitting into features and target\n",
    "    y_train = stream_df['stream_quality']\n",
    "    x_train = stream_df.drop(['stream_quality'], axis=1)\n",
    "\n",
    "    # scaling data\n",
    "    scaler = MinMaxScaler()\n",
    "    scaler.fit(x_train)\n",
    "    x_train = pd.DataFrame(scaler.transform(x_train), columns=x_train.columns)\n",
    "    \n",
    "    # same, but for test data (fitted on train data)\n",
    "    if (not stream_df_test is None):\n",
    "        target_encoding = {'partial':1, 'off':0}\n",
    "        stream_df_test['auto_fec_state'] = stream_df_test['auto_fec_state'].apply(lambda x : target_encoding.get(x))\n",
    "\n",
    "        target_encoding = {'off':0., 'partial':0.5, 'full':1.}\n",
    "        stream_df_test['auto_bitrate_state_lable'] = stream_df_test['auto_bitrate_state'].apply(lambda x : target_encoding.get(x))\n",
    "        \n",
    "        stream_df_test = encoder.transform(stream_df_test)\n",
    "\n",
    "        y_test = stream_df_test['stream_quality']\n",
    "        x_test = stream_df_test.drop(['stream_quality'], axis=1)\n",
    "        x_test = pd.DataFrame(scaler.transform(x_test), columns=x_test.columns)\n",
    "    return x_train, y_train, x_test, y_test\n"
   ]
  },
  {
   "cell_type": "code",
   "execution_count": 371,
   "metadata": {},
   "outputs": [],
   "source": [
    "x_train, y_train, x_test, y_test = preprocess_data(stream_df, stream_dft)"
   ]
  },
  {
   "cell_type": "markdown",
   "metadata": {},
   "source": [
    "#### 5. Feature selection"
   ]
  },
  {
   "cell_type": "code",
   "execution_count": 372,
   "metadata": {},
   "outputs": [],
   "source": [
    "from sklearn.linear_model import Ridge\n",
    "\n",
    "ridge = Ridge().fit(x_train, y_train)"
   ]
  },
  {
   "cell_type": "code",
   "execution_count": 373,
   "metadata": {},
   "outputs": [
    {
     "name": "stdout",
     "output_type": "stream",
     "text": [
      "['dropped_frames_std', 'fps_lags', 'dropped_frames_mean', 'rtt_std', 'fps_std', 'rtt_mean', 'auto_fec_state', 'auto_fec_mean']\n"
     ]
    }
   ],
   "source": [
    "coefs = np.array(ridge.coef_)\n",
    "num_of_features = 8\n",
    "indexes = sorted(range(len(coefs)), key=lambda k: -coefs[k])[:num_of_features]\n",
    "selected_features = [x_train.columns.to_list()[i] for i in indexes]\n",
    "print(selected_features)\n",
    "x_train = x_train[selected_features]\n",
    "x_test = x_test[selected_features]"
   ]
  },
  {
   "cell_type": "markdown",
   "metadata": {},
   "source": [
    "#### 6. Data visualization"
   ]
  },
  {
   "cell_type": "code",
   "execution_count": 374,
   "metadata": {},
   "outputs": [
    {
     "data": {
      "image/png": "[encoded data removed]",
      "text/plain": [
       "<Figure size 432x288 with 1 Axes>"
      ]
     },
     "metadata": {
      "needs_background": "light"
     },
     "output_type": "display_data"
    }
   ],
   "source": [
    "from sklearn.decomposition import PCA\n",
    "\n",
    "dim_reducer = PCA(n_components=2)\n",
    "x_train_2d = dim_reducer.fit_transform(x_train)\n",
    "\n",
    "index_1 = np.where(y_train == 0)[0]\n",
    "plt.plot(x_train_2d[index_1][:,1], x_train_2d[index_1][:,0], 'ro', label=\"class 0\")\n",
    "index_2 = np.where(y_train == 1)[0]\n",
    "plt.plot(x_train_2d[index_2][:,1], x_train_2d[index_2][:,0], 'bo', label=\"class 1\")\n",
    "\n",
    "plt.legend()\n",
    "plt.show()"
   ]
  },
  {
   "cell_type": "code",
   "execution_count": 375,
   "metadata": {},
   "outputs": [
    {
     "data": {
      "text/plain": [
       "[<mpl_toolkits.mplot3d.art3d.Line3D at 0x1ab5b695870>]"
      ]
     },
     "execution_count": 375,
     "metadata": {},
     "output_type": "execute_result"
    },
    {
     "data": {
      "image/png": "[encoded data removed]",
      "text/plain": [
       "<Figure size 432x288 with 1 Axes>"
      ]
     },
     "metadata": {
      "needs_background": "light"
     },
     "output_type": "display_data"
    }
   ],
   "source": [
    "from mpl_toolkits import mplot3d\n",
    "dim_reducer = PCA(n_components=3)\n",
    "x_train_3d = dim_reducer.fit_transform(x_train)\n",
    "\n",
    "ax = plt.axes(projection='3d')\n",
    "index = np.where(y_train == 0)[0]\n",
    "ax.plot3D(x_train_3d[index][:,0], x_train_3d[index][:,2], x_train_3d[index][:,1], 'ro', label=\"class 0\")\n",
    "index = np.where(y_train == 1)[0]\n",
    "ax.plot3D(x_train_3d[index][:,0], x_train_3d[index][:,2], x_train_3d[index][:,1], 'bo', label=\"class 1\")"
   ]
  },
  {
   "cell_type": "markdown",
   "metadata": {},
   "source": [
    "#### 7. Machine learning"
   ]
  },
  {
   "cell_type": "code",
   "execution_count": 376,
   "metadata": {},
   "outputs": [],
   "source": [
    "from sklearn.linear_model import LogisticRegression\n",
    "from sklearn import metrics\n",
    "from sklearn.naive_bayes import GaussianNB\n",
    "\n",
    "classificators = [LogisticRegression(C=1, penalty='l1', solver='liblinear'), LogisticRegression('l2'), GaussianNB()]\n",
    "for clf in classificators:\n",
    "    clf.fit(x_train, y_train)\n",
    "\n",
    "predictions = [clf.predict(x_test) for clf in classificators]\n",
    "predictions_train = [clf.predict(x_train) for clf in classificators]"
   ]
  },
  {
   "cell_type": "code",
   "execution_count": 377,
   "metadata": {},
   "outputs": [],
   "source": [
    "results = {'Model':['LogReg l1', 'LogReg l2', 'NaiveBaies']}\n",
    "\n",
    "results['Accuracy'] = [metrics.accuracy_score(y_test, y_pred) for y_pred in predictions]\n",
    "results['Presicion'] = [metrics.precision_score(y_test, y_pred) for y_pred in predictions]\n",
    "results['Recall'] = [metrics.recall_score(y_test, y_pred) for y_pred in predictions]\n",
    "results['Mean Absolute Error'] = [metrics.mean_absolute_error(y_test, y_pred) for y_pred in predictions]\n",
    "results['Mean Squared Error'] = [metrics.mean_squared_error(y_test, y_pred) for y_pred in predictions]\n",
    "results['Root Mean Squared Error'] = [np.sqrt(metrics.mean_squared_error(y_test, y_pred)) for y_pred in predictions]\n",
    "results['Root Squared'] = [np.sqrt(abs(metrics.r2_score(y_test, y_pred))) for y_pred in predictions]\n",
    "\n",
    "measures = pd.DataFrame(data=results)\n",
    "\n",
    "\n",
    "results_train = {'Model':['LogReg l1', 'LogReg l2', 'NaiveBaies']}\n",
    "\n",
    "results_train['Accuracy'] = [metrics.accuracy_score(y_train, y_pred) for y_pred in predictions_train]\n",
    "results_train['Presicion'] = [metrics.precision_score(y_train, y_pred) for y_pred in predictions_train]\n",
    "results_train['Recall'] = [metrics.recall_score(y_train, y_pred) for y_pred in predictions_train]\n",
    "results_train['Mean Absolute Error'] = [metrics.mean_absolute_error(y_train, y_pred) for y_pred in predictions_train]\n",
    "results_train['Mean Squared Error'] = [metrics.mean_squared_error(y_train, y_pred) for y_pred in predictions_train]\n",
    "results_train['Root Mean Squared Error'] = [np.sqrt(metrics.mean_squared_error(y_train, y_pred)) for y_pred in predictions_train]\n",
    "results_train['Root Squared'] = [np.sqrt(abs(metrics.r2_score(y_train, y_pred))) for y_pred in predictions_train]\n",
    "\n",
    "measures_train = pd.DataFrame(data=results_train)"
   ]
  },
  {
   "cell_type": "code",
   "execution_count": 378,
   "metadata": {},
   "outputs": [
    {
     "data": {
      "text/html": [
       "<div>\n",
       "<style scoped>\n",
       "    .dataframe tbody tr th:only-of-type {\n",
       "        vertical-align: middle;\n",
       "    }\n",
       "\n",
       "    .dataframe tbody tr th {\n",
       "        vertical-align: top;\n",
       "    }\n",
       "\n",
       "    .dataframe thead th {\n",
       "        text-align: right;\n",
       "    }\n",
       "</style>\n",
       "<table border=\"1\" class=\"dataframe\">\n",
       "  <thead>\n",
       "    <tr style=\"text-align: right;\">\n",
       "      <th></th>\n",
       "      <th>Model</th>\n",
       "      <th>Accuracy</th>\n",
       "      <th>Presicion</th>\n",
       "      <th>Recall</th>\n",
       "      <th>Mean Absolute Error</th>\n",
       "      <th>Mean Squared Error</th>\n",
       "      <th>Root Mean Squared Error</th>\n",
       "      <th>Root Squared</th>\n",
       "    </tr>\n",
       "  </thead>\n",
       "  <tbody>\n",
       "    <tr>\n",
       "      <th>0</th>\n",
       "      <td>LogReg l1</td>\n",
       "      <td>0.919748</td>\n",
       "      <td>0.381070</td>\n",
       "      <td>0.393526</td>\n",
       "      <td>0.080252</td>\n",
       "      <td>0.080252</td>\n",
       "      <td>0.283287</td>\n",
       "      <td>0.575685</td>\n",
       "    </tr>\n",
       "    <tr>\n",
       "      <th>1</th>\n",
       "      <td>LogReg l2</td>\n",
       "      <td>0.919416</td>\n",
       "      <td>0.379338</td>\n",
       "      <td>0.394227</td>\n",
       "      <td>0.080584</td>\n",
       "      <td>0.080584</td>\n",
       "      <td>0.283874</td>\n",
       "      <td>0.580457</td>\n",
       "    </tr>\n",
       "    <tr>\n",
       "      <th>2</th>\n",
       "      <td>NaiveBaies</td>\n",
       "      <td>0.895938</td>\n",
       "      <td>0.309092</td>\n",
       "      <td>0.498025</td>\n",
       "      <td>0.104062</td>\n",
       "      <td>0.104062</td>\n",
       "      <td>0.322586</td>\n",
       "      <td>0.852309</td>\n",
       "    </tr>\n",
       "  </tbody>\n",
       "</table>\n",
       "</div>"
      ],
      "text/plain": [
       "        Model  Accuracy  Presicion    Recall  Mean Absolute Error  \\\n",
       "0   LogReg l1  0.919748   0.381070  0.393526             0.080252   \n",
       "1   LogReg l2  0.919416   0.379338  0.394227             0.080584   \n",
       "2  NaiveBaies  0.895938   0.309092  0.498025             0.104062   \n",
       "\n",
       "   Mean Squared Error  Root Mean Squared Error  Root Squared  \n",
       "0            0.080252                 0.283287      0.575685  \n",
       "1            0.080584                 0.283874      0.580457  \n",
       "2            0.104062                 0.322586      0.852309  "
      ]
     },
     "execution_count": 378,
     "metadata": {},
     "output_type": "execute_result"
    }
   ],
   "source": [
    "measures"
   ]
  },
  {
   "cell_type": "code",
   "execution_count": 379,
   "metadata": {},
   "outputs": [
    {
     "data": {
      "text/html": [
       "<div>\n",
       "<style scoped>\n",
       "    .dataframe tbody tr th:only-of-type {\n",
       "        vertical-align: middle;\n",
       "    }\n",
       "\n",
       "    .dataframe tbody tr th {\n",
       "        vertical-align: top;\n",
       "    }\n",
       "\n",
       "    .dataframe thead th {\n",
       "        text-align: right;\n",
       "    }\n",
       "</style>\n",
       "<table border=\"1\" class=\"dataframe\">\n",
       "  <thead>\n",
       "    <tr style=\"text-align: right;\">\n",
       "      <th></th>\n",
       "      <th>Model</th>\n",
       "      <th>Accuracy</th>\n",
       "      <th>Presicion</th>\n",
       "      <th>Recall</th>\n",
       "      <th>Mean Absolute Error</th>\n",
       "      <th>Mean Squared Error</th>\n",
       "      <th>Root Mean Squared Error</th>\n",
       "      <th>Root Squared</th>\n",
       "    </tr>\n",
       "  </thead>\n",
       "  <tbody>\n",
       "    <tr>\n",
       "      <th>0</th>\n",
       "      <td>LogReg l1</td>\n",
       "      <td>0.844624</td>\n",
       "      <td>0.647508</td>\n",
       "      <td>0.208410</td>\n",
       "      <td>0.155376</td>\n",
       "      <td>0.155376</td>\n",
       "      <td>0.394178</td>\n",
       "      <td>0.304342</td>\n",
       "    </tr>\n",
       "    <tr>\n",
       "      <th>1</th>\n",
       "      <td>LogReg l2</td>\n",
       "      <td>0.844299</td>\n",
       "      <td>0.644196</td>\n",
       "      <td>0.207883</td>\n",
       "      <td>0.155701</td>\n",
       "      <td>0.155701</td>\n",
       "      <td>0.394589</td>\n",
       "      <td>0.308069</td>\n",
       "    </tr>\n",
       "    <tr>\n",
       "      <th>2</th>\n",
       "      <td>NaiveBaies</td>\n",
       "      <td>0.840273</td>\n",
       "      <td>0.556261</td>\n",
       "      <td>0.344118</td>\n",
       "      <td>0.159727</td>\n",
       "      <td>0.159727</td>\n",
       "      <td>0.399659</td>\n",
       "      <td>0.351031</td>\n",
       "    </tr>\n",
       "  </tbody>\n",
       "</table>\n",
       "</div>"
      ],
      "text/plain": [
       "        Model  Accuracy  Presicion    Recall  Mean Absolute Error  \\\n",
       "0   LogReg l1  0.844624   0.647508  0.208410             0.155376   \n",
       "1   LogReg l2  0.844299   0.644196  0.207883             0.155701   \n",
       "2  NaiveBaies  0.840273   0.556261  0.344118             0.159727   \n",
       "\n",
       "   Mean Squared Error  Root Mean Squared Error  Root Squared  \n",
       "0            0.155376                 0.394178      0.304342  \n",
       "1            0.155701                 0.394589      0.308069  \n",
       "2            0.159727                 0.399659      0.351031  "
      ]
     },
     "execution_count": 379,
     "metadata": {},
     "output_type": "execute_result"
    }
   ],
   "source": [
    "measures_train"
   ]
  }
 ],
 "metadata": {
  "kernelspec": {
   "display_name": "Python 3.10.0 64-bit",
   "language": "python",
   "name": "python3"
  },
  "language_info": {
   "codemirror_mode": {
    "name": "ipython",
    "version": 3
   },
   "file_extension": ".py",
   "mimetype": "text/x-python",
   "name": "python",
   "nbconvert_exporter": "python",
   "pygments_lexer": "ipython3",
   "version": "3.10.0"
  },
  "orig_nbformat": 4,
  "vscode": {
   "interpreter": {
    "hash": "136d3de6453a21debda57ed276c6fcce71fde84e7957a47fdb8e529b49986e4b"
   }
  }
 },
 "nbformat": 4,
 "nbformat_minor": 2
}
